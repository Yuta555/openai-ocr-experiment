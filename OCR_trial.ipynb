{
  "nbformat": 4,
  "nbformat_minor": 0,
  "metadata": {
    "colab": {
      "provenance": []
    },
    "kernelspec": {
      "name": "python3",
      "display_name": "Python 3"
    },
    "language_info": {
      "name": "python"
    }
  },
  "cells": [
    {
      "cell_type": "markdown",
      "source": [
        "# Vision API Application for OCR"
      ],
      "metadata": {
        "id": "oRw_w3Bw5wKG"
      }
    },
    {
      "cell_type": "code",
      "source": [
        "!apt-get install -y poppler-utils"
      ],
      "metadata": {
        "id": "Syy1y3d_yhqF"
      },
      "execution_count": null,
      "outputs": []
    },
    {
      "cell_type": "code",
      "execution_count": null,
      "metadata": {
        "id": "pOQnuloQuHUV"
      },
      "outputs": [],
      "source": [
        "!pip install -q cohere tiktoken openai transformers pdf2image Pillow"
      ]
    },
    {
      "cell_type": "code",
      "source": [
        "from openai import OpenAI\n",
        "\n",
        "from google.colab import userdata\n",
        "OPENAI_KEY = userdata.get('openai_key')\n",
        "\n",
        "from pdf2image import convert_from_path\n",
        "from PIL import Image\n",
        "import base64\n",
        "\n",
        "client = OpenAI(api_key=OPENAI_KEY)"
      ],
      "metadata": {
        "id": "ZnzeeWT9ukTG"
      },
      "execution_count": 13,
      "outputs": []
    },
    {
      "cell_type": "code",
      "source": [
        "# Convert PDF to PNG\n",
        "def pdf_to_png(pdf_file, output_folder):\n",
        "    pages = convert_from_path(pdf_file, dpi=300)  # Use a good DPI for better resolution\n",
        "    images = []\n",
        "    for i, page in enumerate(pages):\n",
        "        output_path = f\"{output_folder}/{pdf_file}_{i+1}.png\"\n",
        "        page.save(output_path, 'PNG')\n",
        "        images.append(output_path)\n",
        "    return images\n",
        "\n",
        "def perform_OCR(prompt, image_path, model=\"gpt-4o\"):\n",
        "  with open(image_path, \"rb\") as image_file:\n",
        "    encoded_image = base64.b64encode(image_file.read()).decode('utf-8')\n",
        "\n",
        "  response = client.chat.completions.create(\n",
        "    model=model,\n",
        "    messages=[\n",
        "      {\n",
        "        \"role\": \"user\",\n",
        "        \"content\": [\n",
        "          {\"type\": \"text\", \"text\": prompt},\n",
        "          {\n",
        "            \"type\": \"image_url\",\n",
        "            \"image_url\": {\n",
        "              \"url\": f\"data:image/jpeg;base64,{encoded_image}\",\n",
        "            },\n",
        "          },\n",
        "        ],\n",
        "      }\n",
        "    ],\n",
        "    max_tokens=500,\n",
        "  )\n",
        "\n",
        "  return response.choices[0].message.content"
      ],
      "metadata": {
        "id": "z855Xn_7vgLF"
      },
      "execution_count": 19,
      "outputs": []
    },
    {
      "cell_type": "markdown",
      "source": [
        "## Case to read pdf files"
      ],
      "metadata": {
        "id": "8Ye1Yj025Zyk"
      }
    },
    {
      "cell_type": "code",
      "source": [
        "# Convert PDF to image (.png)\n",
        "image_path = 'sample.pdf'\n",
        "images = pdf_to_png(image_path, '.')\n",
        "\n",
        "print(images)"
      ],
      "metadata": {
        "id": "g46V0XrnvFTh"
      },
      "execution_count": null,
      "outputs": []
    },
    {
      "cell_type": "code",
      "source": [
        "prompt = \"\"\"写真から以下の情報を抽出しなさい。\n",
        "- 請求日\n",
        "- 請求先名\n",
        "- 請求元名\n",
        "- ”小計”項目の金額\n",
        "- ”消費税”項目の金額\n",
        "- ”請求額”項目の金額\n",
        "- 支払期限の日付\"\"\"\n",
        "\n",
        "for image_path in images:\n",
        "  print(perform_OCR(prompt, image_path))"
      ],
      "metadata": {
        "id": "BTrm5QqUv9u9"
      },
      "execution_count": null,
      "outputs": []
    },
    {
      "cell_type": "markdown",
      "source": [
        "# Case to read image files directly"
      ],
      "metadata": {
        "id": "M6uqYVx65hcv"
      }
    },
    {
      "cell_type": "code",
      "source": [
        "image2 = 'Screenshot 2023-08-14 at 5.38.23 PM.png'\n",
        "\n",
        "prompt = \"\"\"Extract the following information from the image.\n",
        "- Order #\n",
        "- Order date\n",
        "- Recipient name\n",
        "- Shipping address\n",
        "- Item Details\n",
        "- Total Merchandise\n",
        "- Order total\n",
        "\"\"\"\n",
        "\n",
        "print(perform_OCR(prompt, image2))"
      ],
      "metadata": {
        "id": "OZnRpWlp2G6X"
      },
      "execution_count": null,
      "outputs": []
    },
    {
      "cell_type": "code",
      "source": [
        "image2 = 'Screenshot 2024-06-09 at 5.35.39 PM.png'\n",
        "\n",
        "prompt = \"\"\"Extract the following information from the image.\n",
        "- Origin airport\n",
        "- Destination airport\n",
        "- Number of passengers\n",
        "- Duration of departing fight\n",
        "- Departure time of departing flight\n",
        "- Arrival time of departing flight\n",
        "- Flight number of departing flight\n",
        "- Duration of returning flight\n",
        "- Departure time of returning flight\n",
        "- Arrival time of returning flight\n",
        "- Flight number of returning flight\n",
        "- Lowest total price of all flights\n",
        "- Price of Economy Fully Refundable\n",
        "\"\"\"\n",
        "\n",
        "print(perform_OCR(prompt, image2))"
      ],
      "metadata": {
        "id": "6lc3hNo83c8O"
      },
      "execution_count": null,
      "outputs": []
    },
    {
      "cell_type": "code",
      "source": [],
      "metadata": {
        "id": "GUWsmqbk4m9_"
      },
      "execution_count": null,
      "outputs": []
    }
  ]
}